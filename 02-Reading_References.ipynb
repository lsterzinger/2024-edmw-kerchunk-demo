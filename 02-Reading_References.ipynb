{
 "cells": [
  {
   "cell_type": "markdown",
   "id": "df9437fb",
   "metadata": {},
   "source": [
    "# Open dataset and do some plotting!\n",
    "\n",
    "This notebook will walk through opening the generated `combined.json` with xarray and using xarray + metpy + hvplot to create interactive plots.\n",
    "\n",
    "First, import the needed libraries:\n",
    "* Metpy - used for generating projection info from GOES data\n",
    "* Cartopy - used for projecting/transforming coordinate systems\n",
    "* fsspec - open remote files"
   ]
  },
  {
   "cell_type": "code",
   "execution_count": null,
   "id": "16123fec",
   "metadata": {
    "tags": []
   },
   "outputs": [],
   "source": [
    "import hvplot.xarray\n",
    "import matplotlib.pyplot as plt\n",
    "import fsspec\n",
    "import xarray as xr\n",
    "import cartopy.crs as ccrs\n",
    "import cartopy.feature as cfeature\n",
    "import numpy as np"
   ]
  },
  {
   "cell_type": "markdown",
   "id": "90c0b6de-0e5f-47ac-9351-2588b3c2d180",
   "metadata": {},
   "source": [
    "### Login to EarthData and get S3 access credentials (2-hour expiration)"
   ]
  },
  {
   "cell_type": "code",
   "execution_count": null,
   "id": "8e423dd8-f3ca-40f7-bb5f-15a2b16ca067",
   "metadata": {},
   "outputs": [],
   "source": [
    "import earthaccess\n",
    "auth = earthaccess.login(persist=True)\n",
    "creds = earthaccess.get_s3_credentials(daac='GES_DISC')"
   ]
  },
  {
   "cell_type": "markdown",
   "id": "1ce4636d-34b7-42d6-b1d7-483b56e4c2a7",
   "metadata": {},
   "source": [
    "### Set up fsspec ReferenceFileSystem to use `./combined.json` and S3 credentials"
   ]
  },
  {
   "cell_type": "code",
   "execution_count": null,
   "id": "fb8da0a3",
   "metadata": {
    "tags": []
   },
   "outputs": [],
   "source": [
    "r_opts = {'anon':False,          \n",
    "          'key':creds['accessKeyId'], \n",
    "          'secret':creds['secretAccessKey'], \n",
    "          'token':creds['sessionToken']}    #ncfiles\n",
    "\n",
    "# Use this line for the example JSON\n",
    "fs = fsspec.filesystem(\n",
    "    'reference', \n",
    "    fo=\"./combined.json\", \n",
    "    # fo=\"./example_jsons/combined.json\", \n",
    "    remote_protocol='s3', \n",
    "    remote_options=r_opts,\n",
    "    skip_instance_cache=True\n",
    ")"
   ]
  },
  {
   "cell_type": "markdown",
   "id": "61955482",
   "metadata": {},
   "source": [
    "### Filesystem mapper can be opened directly with xarray and the Zarr engine."
   ]
  },
  {
   "cell_type": "code",
   "execution_count": null,
   "id": "a8cbcb31",
   "metadata": {
    "tags": []
   },
   "outputs": [],
   "source": [
    "%%time\n",
    "ds = xr.open_dataset(fs.get_mapper(), engine='zarr', consolidated=False)\n",
    "ds"
   ]
  },
  {
   "cell_type": "markdown",
   "id": "16707a91-c1f3-4261-ad8b-f16a0fbc788c",
   "metadata": {},
   "source": [
    "### Use the xarray dataset \"as usual\" - only required data chunks will be pulled in"
   ]
  },
  {
   "cell_type": "code",
   "execution_count": null,
   "id": "59eb8398-1575-44f4-8442-62b5be110247",
   "metadata": {},
   "outputs": [],
   "source": [
    "ax = plt.subplot(projection=ccrs.Orthographic(central_latitude=44.9, central_longitude=-103.7))\n",
    "\n",
    "ds.T2M.sel(time='2024-03-15T12:00:00', method='nearest').plot(\n",
    "    transform=ccrs.PlateCarree(), \n",
    "    cmap='jet', \n",
    "    robust=True\n",
    ")\n",
    "\n",
    "ax.coastlines()\n",
    "ax.add_feature(cfeature.BORDERS)"
   ]
  },
  {
   "cell_type": "code",
   "execution_count": null,
   "id": "288a94c6-77e5-465b-819d-70bd788230bd",
   "metadata": {},
   "outputs": [],
   "source": [
    "ds.QV10M.hvplot(\n",
    "    groupby='time', cmap='jet', \n",
    "    crs=ccrs.PlateCarree(), project=True,\n",
    "    coastline=True, rasterize=True, features=['borders', 'states'],\n",
    "    widget_type='scrubber', widget_location='bottom',\n",
    "    clim=(1e-5, 2e-2)\n",
    ")"
   ]
  },
  {
   "cell_type": "code",
   "execution_count": null,
   "id": "da711f7b-76ce-4f24-9400-d185cac92330",
   "metadata": {},
   "outputs": [],
   "source": [
    "ds.T2M.sel(lat=[5, 20, 40, 60, 80], method='nearest').hvplot.kde('T2M', by='lat', alpha=0.5)"
   ]
  },
  {
   "cell_type": "code",
   "execution_count": null,
   "id": "9f23c1bf-130f-49f5-af1b-d5473f98d42b",
   "metadata": {},
   "outputs": [],
   "source": []
  },
  {
   "cell_type": "code",
   "execution_count": null,
   "id": "994fb8d0-25bd-429d-bb51-7e3bf0ec02c8",
   "metadata": {},
   "outputs": [],
   "source": []
  }
 ],
 "metadata": {
  "interpreter": {
   "hash": "09e290f4815ef39aff6dbca11dde8c0bbdf7f645370c8d0b6e37bbf9b5b58096"
  },
  "kernelspec": {
   "display_name": "Python 3 (ipykernel)",
   "language": "python",
   "name": "python3"
  },
  "language_info": {
   "codemirror_mode": {
    "name": "ipython",
    "version": 3
   },
   "file_extension": ".py",
   "mimetype": "text/x-python",
   "name": "python",
   "nbconvert_exporter": "python",
   "pygments_lexer": "ipython3",
   "version": "3.10.14"
  }
 },
 "nbformat": 4,
 "nbformat_minor": 5
}
